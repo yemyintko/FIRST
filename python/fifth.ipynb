{
 "cells": [
  {
   "attachments": {},
   "cell_type": "markdown",
   "metadata": {},
   "source": [
    "Assignment 1 Ask the user to enter their name and a number. If the number is less than 10,then display their name that number of times. Else, display message \"Number is too high\" for three times."
   ]
  },
  {
   "cell_type": "code",
   "execution_count": null,
   "metadata": {},
   "outputs": [],
   "source": [
    "name = input(\"Enter Your Name:\")\n",
    "print(name) \n",
    " \n",
    "number = int(input(\"Type a Number\"))\n",
    "print(number)\n",
    "if number <10:\n",
    "  for i in name: \n",
    "    print(i)\n",
    "else:\n",
    "  for i in range (3):\n",
    "    display(\"Number is to high\")"
   ]
  },
  {
   "attachments": {},
   "cell_type": "markdown",
   "metadata": {},
   "source": [
    "Assignment 2 Set a variable called total to 0. Ask the user for five times to enter a number. After each input, ask them again if they want that number included ('Yes' or 'No'). If they want to include(Yes), add this number to the total. If they don't want to include(No), don't add this number to the total. After they have enter all five numbers, display the total."
   ]
  },
  {
   "cell_type": "code",
   "execution_count": null,
   "metadata": {},
   "outputs": [],
   "source": [
    "total=0\n",
    "for i in range(5):\n",
    "    n=int(input('Put a number:'))\n",
    "    ans=input(\"Do you want that number included? ('y')es or ('n')o:\")\n",
    "    if ans=='y':\n",
    "        total+=n\n",
    "print('Total result:',total)"
   ]
  },
  {
   "attachments": {},
   "cell_type": "markdown",
   "metadata": {},
   "source": [
    "Assignment 3 Ask which direction the user wants to count ('Up' or 'Down'). If they select 'Up',then ask them the maximum number and then count from 1 to that max number. If they select 'Down',then ask them to enter a number below 20 and then count down from 20 to that number. (Hint: to do reverse count, use step from range() as -1.) If they enter something other than 'Up' or 'Down', display the message \"I don't understand\"."
   ]
  },
  {
   "cell_type": "code",
   "execution_count": null,
   "metadata": {},
   "outputs": [],
   "source": [
    "choice = input(\"Do you want to go Up or Down.\")\n",
    "print(choice)\n",
    "if choice == \"Up\":\n",
    "  max = int(input(\"Choose the maximum number.\"))\n",
    "  for i in range(1,max):\n",
    "    print(i)\n",
    "elif choice ==\"Down\":\n",
    "  below = int(input(\"Chosse the number under 20.\"))\n",
    "  for i in range(below,20):\n",
    "    print(i)\n",
    "else:\n",
    "  display(\"I don't understand.\")"
   ]
  },
  {
   "attachments": {},
   "cell_type": "markdown",
   "metadata": {},
   "source": [
    "Assignment 4 Ask how many people the user wants to invite to New Year party. If they enter a number below 10, ask again for the names and after each name, display \"{name} has been invited\". If they enter a number which is 10 or higher, display the message \"Too many people\"."
   ]
  },
  {
   "cell_type": "code",
   "execution_count": null,
   "metadata": {},
   "outputs": [],
   "source": [
    "visitors = int(input(\"how many people do you want to invite to the New Year Party\"))\n",
    "if visitors < 10:\n",
    "    for i in range(9):\n",
    "        name = input(\"name?\")\n",
    "        print(f'{name} has been invited')\n",
    "else:\n",
    "    display(\"Too many people.\")"
   ]
  }
 ],
 "metadata": {
  "kernelspec": {
   "display_name": "Python 3",
   "language": "python",
   "name": "python3"
  },
  "language_info": {
   "codemirror_mode": {
    "name": "ipython",
    "version": 3
   },
   "file_extension": ".py",
   "mimetype": "text/x-python",
   "name": "python",
   "nbconvert_exporter": "python",
   "pygments_lexer": "ipython3",
   "version": "3.10.8 (tags/v3.10.8:aaaf517, Oct 11 2022, 16:50:30) [MSC v.1933 64 bit (AMD64)]"
  },
  "orig_nbformat": 4,
  "vscode": {
   "interpreter": {
    "hash": "afb734500600fd355917ca529030176ea0ca205570884b88f2f6f7d791fd3fbe"
   }
  }
 },
 "nbformat": 4,
 "nbformat_minor": 2
}
