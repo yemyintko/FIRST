{
 "cells": [
  {
   "attachments": {},
   "cell_type": "markdown",
   "metadata": {},
   "source": [
    "## Q1. Nth Digit\n",
    "#### Implement a function: def get_nth_digit(k, n): that accepts a 6 digit decimal number k (i.e., 100000 ≤ k ≤ 999999) and a single digit n (1 ≤ n ≤ 6), return the the nth digit in k.\n",
    "\n",
    "#### The first digit is the digit on the right-most of k.\n",
    "\n",
    "##### Test Cases:\n",
    "\n",
    "##### get_nth_digit(375416, 4) -> 5\n",
    "##### get_nth_digit(987654, 1) -> 4\n",
    "##### get_nth_digit(123456, 6) -> 1\n",
    "##### get_nth_digit(100000, 3) -> 0"
   ]
  },
  {
   "cell_type": "code",
   "execution_count": 9,
   "metadata": {},
   "outputs": [
    {
     "data": {
      "text/plain": [
       "2"
      ]
     },
     "execution_count": 9,
     "metadata": {},
     "output_type": "execute_result"
    }
   ],
   "source": [
    "def get_nth_digit(k, n):\n",
    "    return int(str(k)[-n])\n",
    "get_nth_digit(123456,5)"
   ]
  },
  {
   "attachments": {},
   "cell_type": "markdown",
   "metadata": {},
   "source": [
    "## Q2 : Read Formatted Data\n",
    "### Implement a function format_sum that reads in four integers as a string in the format int1+int2+int3+int4 and returns their sum.\n",
    "\n",
    "### To aid you, the following function, get_int(string, separator, n) is defined for you. Use the function to get the nth integer in the string that is separated by separator. The following example illustrates how it works:\n",
    "\n",
    "#### fibo_string = \"13=21=34=55=89\"\n",
    "#### get_int(fibo_string, \"=\", 0) # 13\n",
    "#### get_int(fibo_string, \"=\", 3) # 55\n",
    "##### Test Cases\n",
    "\n",
    "##### format_sum('1+2+3+4') -> 10\n",
    "##### format_sum('-10+10+-10+10') -> 0\n",
    "##### format_sum('100+10+1+0') -> 111"
   ]
  },
  {
   "cell_type": "code",
   "execution_count": 10,
   "metadata": {},
   "outputs": [
    {
     "name": "stdout",
     "output_type": "stream",
     "text": [
      "10\n"
     ]
    }
   ],
   "source": [
    "def get_int(string, separator, n):\n",
    "    return int(string.split(separator)[n])\n",
    "def format_sum(int_string):\n",
    "    numbers = int_string.split(\"+\")\n",
    "    total = 0\n",
    "    for num in numbers:\n",
    "        total += get_int(num, \"+\", 0)\n",
    "    return total\n",
    "print(format_sum('1+2+3+4'))"
   ]
  },
  {
   "attachments": {},
   "cell_type": "markdown",
   "metadata": {},
   "source": [
    "## Q3 : Time Difference\n",
    "### It is often useful to know the time difference between a starting time and an ending time. Suppose the starting time is 11:46:39 (11:46 hours and 39 seconds) and the ending time is 22:31:17 (22:31 hours and 17 seconds). The time difference is then 10:44:38 (10 hours 44 minutes and 38 seconds).\n",
    "\n",
    "#### Write a function time_difference that reads the starting time and ending time as input strings, calculates and then displays the time difference. Each input strings consists of three integers, denoting the hour, minute and second, separated by colons, e.g. \"12:59:59\". The first string is the start time while the second is the end time. You can assume that:\n",
    "\n",
    "#### Both starting time and ending time are in 24-hour format.\n",
    "#### The starting time and ending time are always in the same day.\n",
    "#### The ending time is always after the starting time.\n",
    "#### Print the time difference in the format as shown in the sample test cases.\n",
    "#### To aid you, the following functions are defined for you:\n",
    "\n",
    "##### time_to_seconds(time): A function that takes in a time in string, and returns the number of seconds that has elapsed since 00:00:00\n",
    "\n",
    "###### make_time_string(hours, mins, seconds): A function that takes in hours, mins, and seconds, and returns a string that represents the time.\n",
    "\n",
    "###### Test Cases\n",
    "\n",
    "###### time_difference('01:02:03', '13:12:11') -> 12:10:08\n",
    "###### time_difference('11:46:39', '22:31:17') -> 10:44:38\n",
    "###### time_difference('00:00:00', '23:59:59') -> 23:59:59\n",
    "###### time_difference('00:00:00', '00:00:01') -> 00:00:01"
   ]
  },
  {
   "cell_type": "code",
   "execution_count": 11,
   "metadata": {},
   "outputs": [
    {
     "name": "stdout",
     "output_type": "stream",
     "text": [
      "10:44:38\n"
     ]
    }
   ],
   "source": [
    "def time_to_seconds(time):\n",
    "    x = list(map(int, time.split(\":\")))\n",
    "    return x[0] * 3600 + x[1]*60 + x[2]\n",
    "\n",
    "def make_time_string(hours, mins, seconds):\n",
    "    return \"{:02d}:{:02d}:{:02d}\".format(hours, mins, seconds)\n",
    "\n",
    "\n",
    "def time_difference(time1, time2):\n",
    "    t1 = time_to_seconds(time1)\n",
    "    t2 = time_to_seconds(time2)\n",
    "    if t1 >= t2:\n",
    "        difference = t1 - t2\n",
    "    else:\n",
    "        difference = t2 - t1\n",
    "    hours = difference // 3600\n",
    "    rem = difference % 3600\n",
    "    minutes = rem // 60\n",
    "    seconds = rem % 60\n",
    "    return make_time_string(hours, minutes, seconds)\n",
    "print(time_difference('11:46:39', '22:31:17'))"
   ]
  },
  {
   "attachments": {},
   "cell_type": "markdown",
   "metadata": {},
   "source": [
    "## Q4: Type of Triangle\n",
    "### Write a function triangle that accepts three positive integers as inputs, denoting lengths of three sides of a triangle and returns the triangle's type:\n",
    "\n",
    "#### \"Not a triangle\" - the length of any side is longer or equal to the sum of the other two sides.\n",
    "#### \"Equilateral\" - all sides of a triangle have the same length.\n",
    "#### \"Isosceles\" - two sides are equal in length and not equilateral.\n",
    "#### \"Scalene\" - it is a triangle AND all sides are unequal (which also implies not isosceles and not equilateral)."
   ]
  },
  {
   "cell_type": "code",
   "execution_count": 13,
   "metadata": {},
   "outputs": [
    {
     "name": "stdout",
     "output_type": "stream",
     "text": [
      "Not a triangle\n"
     ]
    }
   ],
   "source": [
    "def triangle(side1, side2, side3):\n",
    "    if side1 + side2 <= side3 or side1 + side3 <= side2 or side2 + side3 <= side1:\n",
    "        print(\"Not a triangle\")\n",
    "    elif side1 == side2 == side3:\n",
    "        print(\"Equilatera\")\n",
    "    elif side1 == side2 or side1 == side3 or side2 == side3:\n",
    "        print(\"Isosceles\")\n",
    "    elif side1 != side2 != side3:\n",
    "        print(\"Scalene\")\n",
    "    return\n",
    "triangle(2, 3, 5)"
   ]
  }
 ],
 "metadata": {
  "kernelspec": {
   "display_name": "Python 3",
   "language": "python",
   "name": "python3"
  },
  "language_info": {
   "codemirror_mode": {
    "name": "ipython",
    "version": 3
   },
   "file_extension": ".py",
   "mimetype": "text/x-python",
   "name": "python",
   "nbconvert_exporter": "python",
   "pygments_lexer": "ipython3",
   "version": "3.10.8"
  },
  "orig_nbformat": 4,
  "vscode": {
   "interpreter": {
    "hash": "afb734500600fd355917ca529030176ea0ca205570884b88f2f6f7d791fd3fbe"
   }
  }
 },
 "nbformat": 4,
 "nbformat_minor": 2
}
