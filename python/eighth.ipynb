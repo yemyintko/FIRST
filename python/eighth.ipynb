{
 "cells": [
  {
   "attachments": {},
   "cell_type": "markdown",
   "metadata": {},
   "source": [
    "1. Digit Counting\n",
    "####Define a function that will return the number of digits in an integer.\n",
    "#### You can safely assume that the integers are non-negative and will not begin with the number 0 other than the integer 0 itself.\n",
    "Example:\n",
    "\n",
    "###### count_digits(1234) => Expected result: 4"
   ]
  },
  {
   "cell_type": "code",
   "execution_count": 5,
   "metadata": {},
   "outputs": [
    {
     "name": "stdout",
     "output_type": "stream",
     "text": [
      "5\n"
     ]
    }
   ],
   "source": [
    "def digit(digits):\n",
    "  count_digits = len(str(digits))\n",
    "  return count_digits\n",
    "print(digit(12345))"
   ]
  },
  {
   "attachments": {},
   "cell_type": "markdown",
   "metadata": {},
   "source": [
    "# 2. Bigger Sum\n",
    "#### Define a function that takes three numbers as arguments and returns the sum of the squares of the two larger numbers.\n",
    "\n",
    "#### For example, given the numbers 1, 2 and 3, since 2 and 3 are larger than 1, the bigger_sum function should return the integer value 13.\n",
    "\n",
    "Example:\n",
    "\n",
    "##### bigger_sum(1,2,3) => Expected result = 13\n",
    "##### bigger_sum(-1,2,10) => Expected result = 104"
   ]
  },
  {
   "cell_type": "code",
   "execution_count": 4,
   "metadata": {},
   "outputs": [
    {
     "name": "stdout",
     "output_type": "stream",
     "text": [
      "13\n"
     ]
    }
   ],
   "source": [
    "def bigger_sum(a, b, c):\n",
    "  if a >= b and a >= c:\n",
    "      first_sum = a\n",
    "      if b >= c:\n",
    "          second_sum = b\n",
    "      else:\n",
    "          second_sum = c\n",
    "  elif b >= a and b >= c:\n",
    "      first_sum = b\n",
    "      if a >= c:\n",
    "          second_sum = a\n",
    "      else:\n",
    "          second_sum = c\n",
    "  else:\n",
    "      first_sum = c\n",
    "      if a >= b:\n",
    "          second_sum = a\n",
    "      else:\n",
    "          second_sum = b\n",
    "  sum = (first_sum ** 2) + (second_sum ** 2)\n",
    "  return sum\n",
    "print(bigger_sum(1,2,3))"
   ]
  },
  {
   "attachments": {},
   "cell_type": "markdown",
   "metadata": {},
   "source": [
    "# 3. Leap Years\n",
    "### Write a function is_leap_year that takes one integer parameter and decides whether it corresponds to a leap year, i.e. is_leap_year returns True if the input parameter is a leap year, and False otherwise.\n",
    "\n",
    "#### You can find any references to understand how to calculate Leap Years.\n",
    "\n",
    "Example:\n",
    "\n",
    "#### is_leap_year(2000) => Expected result = True\n",
    "#### is_leap_year(2100) => Expected result = False\n",
    "#### is_leap_year(2014) => Expected result = False\n",
    "##### is_leap_year(2104) => Expected result = True"
   ]
  },
  {
   "cell_type": "code",
   "execution_count": 1,
   "metadata": {},
   "outputs": [
    {
     "name": "stdout",
     "output_type": "stream",
     "text": [
      "True\n"
     ]
    }
   ],
   "source": [
    "def is_leap_year(year):\n",
    "    if (year % 100 != 0 or year % 400 == 0)and year % 4 == 0:\n",
    "        return True\n",
    "    else:\n",
    "        return False\n",
    "print(is_leap_year(2020))"
   ]
  },
  {
   "attachments": {},
   "cell_type": "markdown",
   "metadata": {},
   "source": [
    "# 4. Area of Circle\n",
    "Use math module.\n",
    "Write a function area_of_circle that takes one integer parameter for radius , then return the area of circle as the result of calculation.\n",
    "Example:\n",
    "\n",
    "area_of_circle(3) => Expected result = 28.274333882308138"
   ]
  },
  {
   "cell_type": "code",
   "execution_count": 3,
   "metadata": {},
   "outputs": [
    {
     "name": "stdout",
     "output_type": "stream",
     "text": [
      "28.274333882308138\n"
     ]
    }
   ],
   "source": [
    "import math\n",
    "def area_of_circle(radius):\n",
    "    solution = math.pi * radius ** 2\n",
    "    return solution\n",
    "print(area_of_circle(3))"
   ]
  }
 ],
 "metadata": {
  "kernelspec": {
   "display_name": "Python 3",
   "language": "python",
   "name": "python3"
  },
  "language_info": {
   "codemirror_mode": {
    "name": "ipython",
    "version": 3
   },
   "file_extension": ".py",
   "mimetype": "text/x-python",
   "name": "python",
   "nbconvert_exporter": "python",
   "pygments_lexer": "ipython3",
   "version": "3.10.8"
  },
  "orig_nbformat": 4,
  "vscode": {
   "interpreter": {
    "hash": "afb734500600fd355917ca529030176ea0ca205570884b88f2f6f7d791fd3fbe"
   }
  }
 },
 "nbformat": 4,
 "nbformat_minor": 2
}
