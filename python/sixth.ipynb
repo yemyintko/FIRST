{
 "cells": [
  {
   "attachments": {},
   "cell_type": "markdown",
   "metadata": {},
   "source": [
    "Guess the number -Import random module. -Generate random integer between 0 and 100 by using random. -randint() function. -Then ask the user to guess what number has been chosen. -Each time the user enters a guess, the program indicates one of the following: -Too high -Too low -Correct! -If the user guesses correctly, the program exits or breaks. -Otherwise, the user is asked to try again. -The program only exits after the user guesses correctly."
   ]
  },
  {
   "cell_type": "code",
   "execution_count": null,
   "metadata": {},
   "outputs": [],
   "source": [
    "import random\n",
    "r_r =random.randint(0,99)\n",
    "while True:\n",
    "  user_guess = int(input(\"Guess the number between 0 and 100.\"))\n",
    "  print(user_guess)\n",
    "  if user_guess < r_r:\n",
    "    display(f\"{user_guess} is too low.\")\n",
    "  elif user_guess > r_r:\n",
    "    display(f\"{user_guess}is too high\")\n",
    "  else:\n",
    "    print(\"Correct\")\n",
    "    break"
   ]
  },
  {
   "attachments": {},
   "cell_type": "markdown",
   "metadata": {},
   "source": [
    "-Summing numbers from a list -Create a list including 8 numbers on your own. -Find the total sum of the numbers from the list."
   ]
  },
  {
   "cell_type": "code",
   "execution_count": null,
   "metadata": {},
   "outputs": [],
   "source": [
    "summone_list = [1,2,3,4,5,6,7,8]\n",
    "total_sum = 0\n",
    "for number in summone_list:\n",
    "  total_sum += number\n",
    "  print(total_sum)"
   ]
  },
  {
   "attachments": {},
   "cell_type": "markdown",
   "metadata": {},
   "source": [
    "-Secret Language conversion -Ask the user to input an English word. (all small letters) -If the word begin with a vowel (a,e,i,o,u), add \"way\" to the end of the word. -Example : \"air\" becomes \"airway\" and \"eat\" becomes \"eatway\". -If the word begin with any other letter, then we take the first letter, put it on the end of the word, and then add \"ay\". Example: \"python\" becomes \"ythonpay\" and \"computer becomes \"omputercay\". -Hint: You can do the text changes inside print() by something you already learnt."
   ]
  },
  {
   "cell_type": "code",
   "execution_count": null,
   "metadata": {},
   "outputs": [],
   "source": [
    "meaning = input(\"Type an English word all small letters:\")\n",
    "mean = meaning[0].lower()\n",
    "vowel = ['a','e','i','o','u']\n",
    "if mean in vowel:\n",
    "  meaning+=\"way\"\n",
    "  print(meaning)\n",
    "else:\n",
    "  meaning +=\"ay\"\n",
    "  print(meaning)"
   ]
  },
  {
   "attachments": {},
   "cell_type": "markdown",
   "metadata": {},
   "source": [
    "[First, Last] list -Make two lists as given : mylist = [1,2,3,4,5] , mylist2 = ['a','b','c','d']. -Print a new list that include only first and last items. -Example : For mylist = [1,2,3,4,5], the expected result is [1,5], not 6. -Example : For mylist2 = ['a','b','c','d'], the expected result is ['a','d'], not 'ad'."
   ]
  },
  {
   "cell_type": "code",
   "execution_count": null,
   "metadata": {},
   "outputs": [],
   "source": [
    "my_list = [1, 2, 3, 4, 5]\n",
    "first_element = my_list.pop(0)\n",
    "last_element = my_list.pop()\n",
    "print(first_element,\",\", last_element)\n",
    "my_list2 = ['a','b','c','d']\n",
    "first_list =my_list2.pop(0)\n",
    "last_list = my_list2.pop()\n",
    "print(first_list,\",\",last_list)\n"
   ]
  },
  {
   "attachments": {},
   "cell_type": "markdown",
   "metadata": {},
   "source": [
    "Hobbies list -Create a list of two hobbies. -Ask the usere what their fav hobby is and add this to the end of the list. -Sort the list and display it."
   ]
  },
  {
   "cell_type": "code",
   "execution_count": null,
   "metadata": {},
   "outputs": [],
   "source": [
    "hobbies_list = ['Football','Reading']\n",
    "user_choice = input(\"What is your fav hobby.\")\n",
    "hobbies_list.append(user_choice)\n",
    "hobbies_list.sort()\n",
    "print(hobbies_list)"
   ]
  },
  {
   "attachments": {},
   "cell_type": "markdown",
   "metadata": {},
   "source": [
    "Delete unfavorite subjects -Create a list of six school subjects. -Ask the user which of these subjects they don't like. -Delete the subject they have chosen from the list. -Display the list again."
   ]
  },
  {
   "cell_type": "code",
   "execution_count": null,
   "metadata": {},
   "outputs": [],
   "source": [
    "subject =[\"Myanmar\",\"English\",\"Math\",\"Science\",\"History\",\"Geography\"]\n",
    "sub = input(\"Which subjects you don't like?\")\n",
    "if sub in subject:\n",
    "  subject.remove(sub)\n",
    "  display(subject)\n",
    "else:\n",
    "  print(\"Incorrect\")"
   ]
  }
 ],
 "metadata": {
  "kernelspec": {
   "display_name": "Python 3",
   "language": "python",
   "name": "python3"
  },
  "language_info": {
   "name": "python",
   "version": "3.10.8 (tags/v3.10.8:aaaf517, Oct 11 2022, 16:50:30) [MSC v.1933 64 bit (AMD64)]"
  },
  "orig_nbformat": 4,
  "vscode": {
   "interpreter": {
    "hash": "afb734500600fd355917ca529030176ea0ca205570884b88f2f6f7d791fd3fbe"
   }
  }
 },
 "nbformat": 4,
 "nbformat_minor": 2
}
